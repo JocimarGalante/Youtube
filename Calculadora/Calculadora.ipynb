{
 "cells": [
  {
   "cell_type": "code",
   "execution_count": 1,
   "id": "518d089f",
   "metadata": {},
   "outputs": [],
   "source": [
    "import tkinter as tk\n",
    "\n",
    "def clicar_botao(valor):\n",
    "    entrada.insert(tk.END, valor)\n",
    "\n",
    "def limpar():\n",
    "    entrada.delete(0, tk.END)\n",
    "\n",
    "def calcular():\n",
    "    try:\n",
    "        resultado = eval(entrada.get())\n",
    "        entrada.delete(0, tk.END)\n",
    "        entrada.insert(tk.END, str(resultado))\n",
    "    except Exception as e:\n",
    "        entrada.delete(0, tk.END)\n",
    "        entrada.insert(tk.END, \"Erro\")\n",
    "\n",
    "# Criar a janela principal\n",
    "janela = tk.Tk()\n",
    "janela.title(\"Calculadora Simples\")\n",
    "\n",
    "# Campo de entrada\n",
    "entrada = tk.Entry(janela, width=20, font=(\"Arial\", 20), borderwidth=2, relief=\"solid\", justify=\"right\")\n",
    "entrada.grid(row=0, column=0, columnspan=4, padx=10, pady=10)\n",
    "\n",
    "# Botões\n",
    "botoes = [\n",
    "    ('7', 1, 0), ('8', 1, 1), ('9', 1, 2), ('/', 1, 3),\n",
    "    ('4', 2, 0), ('5', 2, 1), ('6', 2, 2), ('*', 2, 3),\n",
    "    ('1', 3, 0), ('2', 3, 1), ('3', 3, 2), ('-', 3, 3),\n",
    "    ('0', 4, 0), ('.', 4, 1), ('=', 4, 2), ('+', 4, 3),\n",
    "]\n",
    "\n",
    "for (texto, linha, coluna) in botoes:\n",
    "    if texto == \"=\":\n",
    "        tk.Button(janela, text=texto, width=5, height=2, font=(\"Arial\", 14), command=calcular).grid(row=linha, column=coluna, padx=5, pady=5)\n",
    "    else:\n",
    "        tk.Button(janela, text=texto, width=5, height=2, font=(\"Arial\", 14), command=lambda t=texto: clicar_botao(t)).grid(row=linha, column=coluna, padx=5, pady=5)\n",
    "\n",
    "# Botão de limpar\n",
    "tk.Button(janela, text=\"C\", width=22, height=2, font=(\"Arial\", 14), command=limpar).grid(row=5, column=0, columnspan=4, padx=5, pady=5)\n",
    "\n",
    "# Rodar a janela\n",
    "janela.mainloop()\n"
   ]
  }
 ],
 "metadata": {
  "kernelspec": {
   "display_name": "Python 3",
   "language": "python",
   "name": "python3"
  },
  "language_info": {
   "codemirror_mode": {
    "name": "ipython",
    "version": 3
   },
   "file_extension": ".py",
   "mimetype": "text/x-python",
   "name": "python",
   "nbconvert_exporter": "python",
   "pygments_lexer": "ipython3",
   "version": "3.11.8"
  }
 },
 "nbformat": 4,
 "nbformat_minor": 5
}
